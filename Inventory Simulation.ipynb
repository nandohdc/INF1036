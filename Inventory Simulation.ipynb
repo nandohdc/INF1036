{
 "cells": [
  {
   "cell_type": "markdown",
   "metadata": {},
   "source": [
    "### Inventory Simulation\n",
    "#### INF1036 - 3WA\n",
    "\n",
    "Fernando Homem, Júlia Aleixo, Pedro Moraes, Rafael Rubim"
   ]
  },
  {
   "cell_type": "code",
   "execution_count": 1,
   "metadata": {},
   "outputs": [],
   "source": [
    "import numpy as np\n",
    "import matplotlib.pyplot as plt\n",
    "import math\n",
    "import scipy.stats\n",
    "from ipywidgets import FloatProgress\n",
    "from IPython.display import display\n",
    "\n",
    "%matplotlib inline"
   ]
  },
  {
   "cell_type": "markdown",
   "metadata": {},
   "source": [
    "#### Variable declarations"
   ]
  },
  {
   "cell_type": "code",
   "execution_count": 2,
   "metadata": {},
   "outputs": [],
   "source": [
    "T = 6.0\n",
    "S = 15 # maximum on-hand inventory\n",
    "s = 5 # minimum on-hand inventory\n",
    "x0 = 15 # initial amount of inventory\n",
    "r = 50 # price per product unit\n",
    "L = 2 # units of time before order arrives\n",
    "h = 2 # inventory holding cost\n",
    "ratemax = 10 # maximum number of customers per time unit\n",
    "receiveAfterClose = True # orders can arrive after store closes\n",
    "hUntilClose = True # inventory holding cost is charged until store closes\n",
    "costPerUnit = 10"
   ]
  },
  {
   "cell_type": "markdown",
   "metadata": {},
   "source": [
    "#### Cost function\n",
    "Defines the cost of ordering y units of the product."
   ]
  },
  {
   "cell_type": "code",
   "execution_count": 3,
   "metadata": {},
   "outputs": [],
   "source": [
    "def cost(y): \n",
    "    return y * costPerUnit"
   ]
  },
  {
   "cell_type": "markdown",
   "metadata": {},
   "source": [
    "#### Customer's arrivals\n",
    "Customers demanding the product appear in accordance with a non-homogenous Poisson process with rate λ."
   ]
  },
  {
   "cell_type": "code",
   "execution_count": 4,
   "metadata": {},
   "outputs": [],
   "source": [
    "def rate(t):\n",
    "    if (t < 1.0):\n",
    "        return 10.0\n",
    "    elif (t < 2.0):\n",
    "        return 5.0\n",
    "    elif (t < 3.0):\n",
    "        return 10.0\n",
    "    elif (t < 4.0):\n",
    "        return 2.0\n",
    "    elif (t < 5.0):\n",
    "        return 5.0\n",
    "    else:\n",
    "        return 10.0"
   ]
  },
  {
   "cell_type": "code",
   "execution_count": 5,
   "metadata": {},
   "outputs": [],
   "source": [
    "def exponential(nsamples,rate):\n",
    "    x = np.zeros(nsamples)\n",
    "    u = np.random.sample(nsamples)\n",
    "    for i in range(nsamples):\n",
    "        x[i] = - math.log(1.0 - u[i]) / rate\n",
    "    return x"
   ]
  },
  {
   "cell_type": "code",
   "execution_count": 6,
   "metadata": {},
   "outputs": [],
   "source": [
    "def nextArrival(t,rate,ratemax):\n",
    "    while(1):\n",
    "        Z = exponential(1,ratemax)[0]\n",
    "        t = t + Z\n",
    "        U = np.random.sample(1)\n",
    "        if U < rate(t) / ratemax:\n",
    "            return t"
   ]
  },
  {
   "cell_type": "markdown",
   "metadata": {},
   "source": [
    "#### Inventory Model\n",
    "Returns the average profit per unit of time."
   ]
  },
  {
   "cell_type": "code",
   "execution_count": 7,
   "metadata": {},
   "outputs": [],
   "source": [
    "def inventory(G,T,S,s,c,x0,r,L,h,rate,ratemax,receiveAfterClose,hUntilClose):\n",
    "    \n",
    "    C = 0.0 # total amount of ordering costs\n",
    "    R = 0.0 # total amount of revenue earned\n",
    "    H = 0.0 # total amount of inventory holding costs\n",
    "    x = x0 # amount of inventory\n",
    "    y = 0 # amount on order\n",
    "    t = 0.0 \n",
    "    t0 = nextArrival(t,rate,ratemax) # arrival time of next customer\n",
    "    t1 = 1.0e+30 # time of order delivery\n",
    "    T0 = []\n",
    "    T1 = []\n",
    "    \n",
    "    while(1):\n",
    "        \n",
    "        # customer arrives before delivery\n",
    "        if t0 < t1 and t0 <= T:\n",
    "            H = H + (t0 - t) * x * h\n",
    "            t = t0\n",
    "            T0.append(t0)\n",
    "            D = G(1,rate(t))[0] # customer's demand\n",
    "            w = min(D,x) # amount of the order that can be filled\n",
    "            R = R + w * r\n",
    "            x = x - w\n",
    "            # ordering policy \n",
    "            if x < s and y == 0:\n",
    "                y = S - x\n",
    "                t1 = t + L\n",
    "            t0 = nextArrival(t,rate,ratemax)\n",
    "            \n",
    "        # order arrives before next customer\n",
    "        elif (t1 <= t0 or t0 > T) and t1 <= T:\n",
    "            H = H + (t1 - t) * x * h\n",
    "            t = t1\n",
    "            T1.append(t1)\n",
    "            C = C + c(y)\n",
    "            x = x + y\n",
    "            y = 0\n",
    "            t1 = 1.0e+30\n",
    "            \n",
    "        else:\n",
    "            # store closes and there is still an outstanding order\n",
    "            if y > 0 and receiveAfterClose:\n",
    "                H = H + (t1 - t) * x * h\n",
    "                t = t1\n",
    "                T1.append(t1)\n",
    "                C = C + c(y)\n",
    "                x = x + y\n",
    "                y = 0\n",
    "                \n",
    "            elif hUntilClose:\n",
    "                H = H + (T - t) * x * h\n",
    "                \n",
    "            totalProfit = R - C - H\n",
    "            profitPerUnit = totalProfit / T # profit per unit of time\n",
    "            return totalProfit, profitPerUnit, T0, T1"
   ]
  },
  {
   "cell_type": "code",
   "execution_count": 8,
   "metadata": {},
   "outputs": [
    {
     "name": "stdout",
     "output_type": "stream",
     "text": [
      "Total Profit: 155.43576835784935\n",
      "Profit per unit of time: 25.90596139297489\n",
      "Customer arrival times: [0.0031260098992682943, 0.01674242460283084, 0.1999229769279506, 0.4489961014121008, 0.5360637203100231, 0.5826270536202821, 0.687717154230904, 0.7660781841997385, 0.8108660582634647, 0.8831186136123369, 0.9786966327824783, 1.066788466222573, 1.1516004002314117, 1.2415530796572358, 1.4798267338174702, 1.5703231498711239, 1.6763976353048773, 1.8596379954441984, 2.558531991539712, 2.5950853248059205, 2.6096208337363107, 2.6917122779761806, 2.7008390994637304, 2.797784335663907, 2.8825564935927175, 2.923610214269116, 2.9734223866323743, 3.532638228865062, 4.42161567289711, 4.60595046956346, 4.795911105805576, 5.01589129209217, 5.035953681458469, 5.188859226457395, 5.202103292339735, 5.344795145055566, 5.394069972247919, 5.545663060739169, 5.621224752929744, 5.642832511471757, 5.7719723613925265, 5.847582824813852]\n",
      "Order arrival times: []\n"
     ]
    }
   ],
   "source": [
    "totalProfit,profitPerUnit,T0,T1 = inventory(exponential,T,S,s,cost,x0,r,L,h,rate,ratemax,receiveAfterClose,hUntilClose)\n",
    "print(\"Total Profit: \" + str(totalProfit))\n",
    "print(\"Profit per unit of time: \" + str(profitPerUnit))\n",
    "print(\"Customer arrival times: \" + str(T0))\n",
    "print(\"Order arrival times: \" + str(T1))"
   ]
  },
  {
   "cell_type": "markdown",
   "metadata": {},
   "source": [
    "#### Tests"
   ]
  },
  {
   "cell_type": "code",
   "execution_count": 9,
   "metadata": {},
   "outputs": [],
   "source": [
    "def inventoryTolerance(tol,alpha):\n",
    "    x = np.zeros(100)\n",
    "    for i in range(100):\n",
    "        totalProfit,profitPerUnit,T0,T1 = inventory(exponential,T,S,s,cost,x0,r,L,h,rate,ratemax,receiveAfterClose,hUntilClose)\n",
    "        x[i] = profitPerUnit\n",
    "    n  = 100\n",
    "    m  = np.mean(x)\n",
    "    s2 = np.var(x)\n",
    "    zab2 = scipy.stats.norm.ppf(1.0 - alpha / 2.0)\n",
    "    while(2.0 * (s2 / n) * zab2 * zab2 > tol**2):\n",
    "        totalProfit,nx,T0,T1 = inventory(exponential,T,S,s,cost,x0,r,L,h,rate,ratemax,receiveAfterClose,hUntilClose)\n",
    "        nm  = m + (nx - m) / (n + 1)\n",
    "        ns2 = (1.0 - 1.0 / n) * s2 + (n + 1.0) * (nm - m)**2\n",
    "        n = n + 1\n",
    "        m  = nm\n",
    "        s2 = ns2 \n",
    "        x = np.append(x,nx)\n",
    "    return m,s2,n,x"
   ]
  },
  {
   "cell_type": "code",
   "execution_count": 10,
   "metadata": {},
   "outputs": [
    {
     "name": "stdout",
     "output_type": "stream",
     "text": [
      "Average profit per unit of time: 25.80217365306805\n",
      "189.39841564041797\n",
      "Number of necessary scenarios: 145515\n",
      "The average is in the interval [25.731463401873423,25.872883904262675] with a probability of 0.95.\n"
     ]
    }
   ],
   "source": [
    "tol = 0.1\n",
    "alpha = 0.05\n",
    "\n",
    "m,s2,n,x = inventoryTolerance(tol,alpha)\n",
    "print(\"Average profit per unit of time: \" + str(m))\n",
    "print(s2)\n",
    "print(\"Number of necessary scenarios: \" + str(n))\n",
    "zab2 = scipy.stats.norm.ppf(1.0 - alpha / 2.0)\n",
    "print(\"The average is in the interval [\" + str(m - math.sqrt(s2 / n) * zab2) + \",\" + str(m + math.sqrt(s2 / n) * zab2) \\\n",
    "      + \"] with a probability of \" + str(1.0 - alpha) + \".\")"
   ]
  },
  {
   "cell_type": "code",
   "execution_count": 11,
   "metadata": {},
   "outputs": [
    {
     "data": {
      "image/png": "[encoded data removed]",
      "text/plain": [
       "<Figure size 432x288 with 1 Axes>"
      ]
     },
     "metadata": {
      "needs_background": "light"
     },
     "output_type": "display_data"
    }
   ],
   "source": [
    "plt.hist(x, 20, density = 1, facecolor ='green', alpha = 0.5)\n",
    "plt.title(\"Profit per Unit of Time Distribution\")\n",
    "plt.show()"
   ]
  },
  {
   "cell_type": "markdown",
   "metadata": {},
   "source": [
    "#### Ordering Policy\n",
    "\n",
    "By varying the values of S and s, we are able to determine the ordering policy that maximizes the store's profits."
   ]
  },
  {
   "cell_type": "code",
   "execution_count": 13,
   "metadata": {
    "scrolled": true
   },
   "outputs": [
    {
     "data": {
      "application/vnd.jupyter.widget-view+json": {
       "model_id": "31624da61ee440c68b24a31b2b2cf79b",
       "version_major": 2,
       "version_minor": 0
      },
      "text/plain": [
       "FloatProgress(value=0.0, max=225.0)"
      ]
     },
     "metadata": {},
     "output_type": "display_data"
    },
    {
     "name": "stdout",
     "output_type": "stream",
     "text": [
      "Maximum profit: 1.0824352892560067\n",
      "Best ordering policy (s,S): (11,25)\n"
     ]
    }
   ],
   "source": [
    "f = FloatProgress(min = 0, max = 225)\n",
    "display(f)\n",
    "f.description = \"Loading\"\n",
    "\n",
    "maximum_profit = -1.0e+30\n",
    "best_S = 0\n",
    "best_s = 0\n",
    "\n",
    "for S in range(25,40):\n",
    "    for s in range(25,10,-1):\n",
    "        m,s2,n,x = inventoryTolerance(tol,alpha)\n",
    "        if m > maximum_profit:\n",
    "            maximum_profit = m\n",
    "            best_S = S\n",
    "            best_s = s\n",
    "        f.value = f.value + 1\n",
    "            \n",
    "print(\"Maximum profit: \" + str(maximum_profit))\n",
    "print(\"Best ordering policy (s,S): (\" + str(best_s) + \",\" + str(best_S) + \")\")"
   ]
  },
  {
   "cell_type": "code",
   "execution_count": null,
   "metadata": {},
   "outputs": [],
   "source": []
  }
 ],
 "metadata": {
  "kernelspec": {
   "display_name": "Python 3",
   "language": "python",
   "name": "python3"
  },
  "language_info": {
   "codemirror_mode": {
    "name": "ipython",
    "version": 3
   },
   "file_extension": ".py",
   "mimetype": "text/x-python",
   "name": "python",
   "nbconvert_exporter": "python",
   "pygments_lexer": "ipython3",
   "version": "3.7.4"
  }
 },
 "nbformat": 4,
 "nbformat_minor": 2
}
