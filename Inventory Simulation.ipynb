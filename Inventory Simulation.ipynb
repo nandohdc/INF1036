{
 "cells": [
  {
   "cell_type": "code",
   "execution_count": 2,
   "metadata": {},
   "outputs": [
    {
     "ename": "ModuleNotFoundError",
     "evalue": "No module named 'matplotlib'",
     "output_type": "error",
     "traceback": [
      "\u001b[0;31m---------------------------------------------------------------------------\u001b[0m",
      "\u001b[0;31mModuleNotFoundError\u001b[0m                       Traceback (most recent call last)",
      "\u001b[0;32m<ipython-input-2-e0a5737edf49>\u001b[0m in \u001b[0;36m<module>\u001b[0;34m\u001b[0m\n\u001b[1;32m      1\u001b[0m \u001b[0;32mimport\u001b[0m \u001b[0mnumpy\u001b[0m \u001b[0;32mas\u001b[0m \u001b[0mnp\u001b[0m\u001b[0;34m\u001b[0m\u001b[0;34m\u001b[0m\u001b[0m\n\u001b[0;32m----> 2\u001b[0;31m \u001b[0;32mimport\u001b[0m \u001b[0mmatplotlib\u001b[0m\u001b[0;34m.\u001b[0m\u001b[0mpyplot\u001b[0m \u001b[0;32mas\u001b[0m \u001b[0mplt\u001b[0m\u001b[0;34m\u001b[0m\u001b[0;34m\u001b[0m\u001b[0m\n\u001b[0m\u001b[1;32m      3\u001b[0m \u001b[0;32mimport\u001b[0m \u001b[0mmath\u001b[0m\u001b[0;34m\u001b[0m\u001b[0;34m\u001b[0m\u001b[0m\n\u001b[1;32m      4\u001b[0m \u001b[0;34m\u001b[0m\u001b[0m\n\u001b[1;32m      5\u001b[0m \u001b[0mget_ipython\u001b[0m\u001b[0;34m(\u001b[0m\u001b[0;34m)\u001b[0m\u001b[0;34m.\u001b[0m\u001b[0mrun_line_magic\u001b[0m\u001b[0;34m(\u001b[0m\u001b[0;34m'matplotlib'\u001b[0m\u001b[0;34m,\u001b[0m \u001b[0;34m'inline'\u001b[0m\u001b[0;34m)\u001b[0m\u001b[0;34m\u001b[0m\u001b[0;34m\u001b[0m\u001b[0m\n",
      "\u001b[0;31mModuleNotFoundError\u001b[0m: No module named 'matplotlib'"
     ]
    }
   ],
   "source": [
    "import numpy as np\n",
    "import matplotlib.pyplot as plt\n",
    "import math\n",
    "\n",
    "%matplotlib inline"
   ]
  },
  {
   "cell_type": "code",
   "execution_count": null,
   "metadata": {},
   "outputs": [],
   "source": [
    "def exponential(nsamples,rate):\n",
    "    x = np.zeros(nsamples)\n",
    "    u = np.random.samples(nsamples)\n",
    "    for i in range(nsamples):\n",
    "        x[i] = - math.log(1.0-u[i])/rate\n",
    "    return x"
   ]
  },
  {
   "cell_type": "code",
   "execution_count": null,
   "metadata": {},
   "outputs": [],
   "source": [
    "# defined by a non-homogenous Poisson process\n",
    "def nextArrival(t,rate,ratemax):\n",
    "    while(1):\n",
    "        Z = exponential(1,ratemax)[0]\n",
    "        t = t + Z\n",
    "        U = np.random.sample(1)\n",
    "        if U < rate(t) / ratemax:\n",
    "            return t"
   ]
  },
  {
   "cell_type": "code",
   "execution_count": null,
   "metadata": {},
   "outputs": [],
   "source": [
    "price = 10 * np.random.samples(1)[0] + 1\n",
    "\n",
    "def cost(y): \n",
    "    return y * price"
   ]
  },
  {
   "cell_type": "code",
   "execution_count": 1,
   "metadata": {},
   "outputs": [
    {
     "name": "stdout",
     "output_type": "stream",
     "text": [
      "Hello\n"
     ]
    }
   ],
   "source": [
    "def inventory(G,T,S,s,c,x0,r,L,h,rate,ratemax):\n",
    "    \n",
    "    C = 0 # total amount of ordering costs\n",
    "    R = 0 # total amount of revenue earned\n",
    "    H = 0 # total amount of inventory holding costs\n",
    "    x = x0 # amount of inventory\n",
    "    y = 0 # amount on order\n",
    "    t0 = nextArrival(rate,ratemax,T) # arrival time of next customer\n",
    "    t1 = 1.0e+30 # time of order delivery\n",
    "    t = 0.0\n",
    "    \n",
    "    while(1):\n",
    "        \n",
    "        # customer arrives before delivery\n",
    "        if t0 < t1 and t < T:\n",
    "            H = H + (t0 - t) * x * h\n",
    "            t = t0\n",
    "            D = G() \n",
    "            w = min(D,x) # amount of the order that can be filled\n",
    "            R = R + w * r\n",
    "            x = x - w\n",
    "            if x < s and y == 0:\n",
    "                y = S - x\n",
    "                t1 = t + L\n",
    "            U = np.random.sample(1)[0]\n",
    "            t0 = t - (1/rate) * math.log(U)\n",
    "\n",
    "        elif t0 >= t1 and t < T:\n",
    "            H = H + (t1 - t) * x * h\n",
    "            t = t1\n",
    "            C = C + c(y)\n",
    "            x = x + y\n",
    "            y = 0\n",
    "            t1 = 1.0e+30\n",
    "            \n",
    "        else:\n",
    "            profit = (R - C - H)/T # profit per unit time\n",
    "            return profit"
   ]
  },
  {
   "cell_type": "code",
   "execution_count": null,
   "metadata": {},
   "outputs": [],
   "source": [
    "inventory(G,T,S,s,exponential,x0,r,L,rate,ratemax)"
   ]
  }
 ],
 "metadata": {
  "kernelspec": {
   "display_name": "Python 3",
   "language": "python",
   "name": "python3"
  },
  "language_info": {
   "codemirror_mode": {
    "name": "ipython",
    "version": 3
   },
   "file_extension": ".py",
   "mimetype": "text/x-python",
   "name": "python",
   "nbconvert_exporter": "python",
   "pygments_lexer": "ipython3",
   "version": "3.7.3"
  }
 },
 "nbformat": 4,
 "nbformat_minor": 2
}
