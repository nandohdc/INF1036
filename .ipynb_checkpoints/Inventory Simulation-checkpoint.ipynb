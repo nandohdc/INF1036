{
 "cells": [
  {
   "cell_type": "markdown",
   "metadata": {},
   "source": [
    "### Inventory Simulation\n",
    "#### INF1036 - 3WA\n",
    "\n",
    "Fernando Homem, Júlia Aleixo, Pedro Moraes, Rafael Rubim"
   ]
  },
  {
   "cell_type": "code",
   "execution_count": 1,
   "metadata": {},
   "outputs": [],
   "source": [
    "import numpy as np\n",
    "import matplotlib.pyplot as plt\n",
    "import math\n",
    "import scipy.stats\n",
    "\n",
    "%matplotlib inline"
   ]
  },
  {
   "cell_type": "markdown",
   "metadata": {},
   "source": [
    "#### Variable declaration"
   ]
  },
  {
   "cell_type": "code",
   "execution_count": 2,
   "metadata": {},
   "outputs": [],
   "source": [
    "T = 6.0\n",
    "S = 15 # maximum on-hand inventory\n",
    "s = 5 # minimum on-hand inventory\n",
    "x0 = 15 # initial amount of inventory\n",
    "r = 30 # price per product unit\n",
    "L = 2 # units of time before order arrives\n",
    "h = 2 # inventory holding cost\n",
    "ratemax = 20"
   ]
  },
  {
   "cell_type": "markdown",
   "metadata": {},
   "source": [
    "#### Cost function\n",
    "Defines the cost of ordering y units of the product."
   ]
  },
  {
   "cell_type": "code",
   "execution_count": 3,
   "metadata": {},
   "outputs": [],
   "source": [
    "def cost(y): \n",
    "    return y * r"
   ]
  },
  {
   "cell_type": "markdown",
   "metadata": {},
   "source": [
    "#### Customer's arrivals\n",
    "Customers demanding the product appear in accordance with a non-homogenous Poisson process with rate λ."
   ]
  },
  {
   "cell_type": "code",
   "execution_count": 4,
   "metadata": {},
   "outputs": [],
   "source": [
    "def rate(t):\n",
    "    if (t < 1.0):\n",
    "        return 10.0\n",
    "    elif (t < 2.0):\n",
    "        return 5.0\n",
    "    elif (t < 3.0):\n",
    "        return 10.0\n",
    "    elif (t < 4.0):\n",
    "        return 2.0\n",
    "    elif (t < 5.0):\n",
    "        return 5.0\n",
    "    else:\n",
    "        return 10.0"
   ]
  },
  {
   "cell_type": "code",
   "execution_count": 5,
   "metadata": {},
   "outputs": [],
   "source": [
    "def exponential(nsamples,rate):\n",
    "    x = np.zeros(nsamples)\n",
    "    u = np.random.sample(nsamples)\n",
    "    for i in range(nsamples):\n",
    "        x[i] = - math.log(1.0-u[i])/rate\n",
    "    return x"
   ]
  },
  {
   "cell_type": "code",
   "execution_count": 6,
   "metadata": {},
   "outputs": [],
   "source": [
    "def nextArrival(t,rate,ratemax):\n",
    "    while(1):\n",
    "        Z = exponential(1,ratemax)[0]\n",
    "        t = t + Z\n",
    "        U = np.random.sample(1)\n",
    "        if U < rate(t) / ratemax:\n",
    "            return t"
   ]
  },
  {
   "cell_type": "markdown",
   "metadata": {},
   "source": [
    "#### Inventory Simulation\n",
    "Returns the average profit per unit of time."
   ]
  },
  {
   "cell_type": "code",
   "execution_count": 7,
   "metadata": {},
   "outputs": [],
   "source": [
    "def inventory(G,T,S,s,c,x0,r,L,h,rate,ratemax):\n",
    "    \n",
    "    C = 0.0 # total amount of ordering costs\n",
    "    R = 0.0 # total amount of revenue earned\n",
    "    H = 0.0 # total amount of inventory holding costs\n",
    "    x = x0 # amount of inventory\n",
    "    y = 0 # amount on order\n",
    "    t = 0.0 \n",
    "    t0 = nextArrival(t,rate,ratemax) # arrival time of next customer\n",
    "    t1 = 1.0e+30 # time of order delivery\n",
    "    T0 = []\n",
    "    T1 = []\n",
    "    \n",
    "    while(1):\n",
    "        \n",
    "        # customer arrives before delivery\n",
    "        if t0 < t1 and t < T:\n",
    "            H = H + (t0 - t) * x * h\n",
    "            t = t0\n",
    "            T0.append(t0)\n",
    "            D = G(1,rate(t))[0] # customer's demand\n",
    "            w = min(D,x) # amount of the order that can be filled\n",
    "            R = R + w * r\n",
    "            x = x - w\n",
    "            if x < s and y == 0:\n",
    "                y = S - x\n",
    "                t1 = t + L\n",
    "            U = np.random.sample(1)[0]\n",
    "            t0 = t - (1 / rate(t)) * math.log(U)\n",
    "#             print(\"t0: \" + str(t0))\n",
    "#             print(\"t1: \" + str(t1))\n",
    "\n",
    "        elif t1 <= t0 and t < T:\n",
    "            H = H + (t1 - t) * x * h\n",
    "            t = t1\n",
    "            T1.append(t1)\n",
    "            C = C + c(y)\n",
    "            x = x + y\n",
    "            y = 0\n",
    "            t1 = 1.0e+30\n",
    "            \n",
    "        else:\n",
    "#             print(\"R: \" + str(R))\n",
    "#             print(\"C: \" + str(C))\n",
    "#             print(\"H: \" + str(H))\n",
    "            profit = (R - C - H) / T # profit per unit time\n",
    "            return profit, T0, T1"
   ]
  },
  {
   "cell_type": "code",
   "execution_count": 8,
   "metadata": {},
   "outputs": [
    {
     "name": "stdout",
     "output_type": "stream",
     "text": [
      "13.170029070457602\n",
      "[0.12598791612480875, 0.35252521881585613, 0.4051062115878554, 0.47463503958894304, 0.5081037641683845, 0.8034786770903153, 0.8218449015202758, 0.9844938623277377, 1.2593132690941804, 1.3890317868552677, 1.4644486201829214, 2.108107281147461, 2.195137118300094, 2.394266193286248, 2.432145843078489, 2.4481291397515745, 2.5949601973444714, 2.619467684420429, 2.790108734794954, 2.8391682871527295, 3.2423409647395207, 3.422372476479331, 3.6051751541335775, 4.424049810226681, 4.455393156153566, 4.5028658797965875, 4.833204710868248, 4.966439258284615, 5.2002575145885395, 5.253230114359634, 5.449744231513485, 5.675856435436152, 5.728039448049735, 5.7844668032379065, 5.813329189561983, 5.82915798509663, 5.874298873647961, 6.048729353148961]\n",
      "[]\n"
     ]
    }
   ],
   "source": [
    "profit,T0,T1 = inventory(exponential,T,S,s,cost,x0,r,L,h,rate,ratemax)\n",
    "print(profit)\n",
    "print(T0)\n",
    "print(T1)"
   ]
  },
  {
   "cell_type": "markdown",
   "metadata": {},
   "source": [
    "#### Tests"
   ]
  },
  {
   "cell_type": "code",
   "execution_count": 9,
   "metadata": {},
   "outputs": [
    {
     "name": "stdout",
     "output_type": "stream",
     "text": [
      "Average profit per unit of time: 6.366871977621227\n",
      "94.19051782397202\n",
      "Number of necessary scenarios: 124989\n",
      "The average is in the interval [6.296161336470057,6.437582618772398] with a probability of 0.99.\n"
     ]
    }
   ],
   "source": [
    "def inventoryTolerance(tol,alpha):\n",
    "    x = np.zeros(100)\n",
    "    for i in range(100):\n",
    "        profit,T0,T1 = inventory(exponential,T,S,s,cost,x0,r,L,h,rate,ratemax)\n",
    "        x[i] = profit\n",
    "    n  = 100\n",
    "    m  = np.mean(x)\n",
    "    s2 = np.var(x)\n",
    "    zab2 = scipy.stats.norm.ppf(1.0 - alpha / 2.0)\n",
    "    while(2.0 * (s2 / n) * zab2 * zab2 > tol**2):\n",
    "        nx,T0,T1 = inventory(exponential,T,S,s,cost,x0,r,L,h,rate,ratemax)\n",
    "        nm  = m + (nx - m) / (n + 1)\n",
    "        ns2 = (1.0 - 1.0 / n) * s2 + (n + 1.0) * (nm - m)**2\n",
    "        n = n + 1\n",
    "        m  = nm\n",
    "        s2 = ns2 \n",
    "        x = np.append(x,nx)\n",
    "    return m,s2,n,x\n",
    "\n",
    "tol = 0.1\n",
    "alpha = 0.01\n",
    "m,s2,n,x = inventoryTolerance(tol,alpha)\n",
    "print(\"Average profit per unit of time: \" + str(m))\n",
    "print(s2)\n",
    "print(\"Number of necessary scenarios: \" + str(n))\n",
    "zab2 = scipy.stats.norm.ppf(1.0 - alpha / 2.0)\n",
    "print(\"The average is in the interval [\" + str(m - math.sqrt(s2 / n) * zab2) + \",\" + str(m + math.sqrt(s2 / n) * zab2) \\\n",
    "      + \"] with a probability of \" + str(1.0 - alpha) + \".\")"
   ]
  },
  {
   "cell_type": "code",
   "execution_count": 10,
   "metadata": {},
   "outputs": [
    {
     "data": {
      "image/png": "[encoded data removed]",
      "text/plain": [
       "<Figure size 432x288 with 1 Axes>"
      ]
     },
     "metadata": {
      "needs_background": "light"
     },
     "output_type": "display_data"
    }
   ],
   "source": [
    "plt.hist(x, 20, density = 1, facecolor='green', alpha=0.5)\n",
    "plt.show()"
   ]
  },
  {
   "cell_type": "code",
   "execution_count": null,
   "metadata": {},
   "outputs": [],
   "source": []
  }
 ],
 "metadata": {
  "kernelspec": {
   "display_name": "Python 3",
   "language": "python",
   "name": "python3"
  },
  "language_info": {
   "codemirror_mode": {
    "name": "ipython",
    "version": 3
   },
   "file_extension": ".py",
   "mimetype": "text/x-python",
   "name": "python",
   "nbconvert_exporter": "python",
   "pygments_lexer": "ipython3",
   "version": "3.7.5"
  }
 },
 "nbformat": 4,
 "nbformat_minor": 2
}
