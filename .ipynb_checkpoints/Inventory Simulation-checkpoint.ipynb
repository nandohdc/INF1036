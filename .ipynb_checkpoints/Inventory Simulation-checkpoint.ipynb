{
 "cells": [
  {
   "cell_type": "markdown",
   "metadata": {},
   "source": [
    "### Inventory Simulation\n",
    "#### INF1036 - 3WA\n",
    "\n",
    "Fernando Homem, Júlia Aleixo, Pedro Moraes, Rafael Rubim"
   ]
  },
  {
   "cell_type": "code",
   "execution_count": 1,
   "metadata": {},
   "outputs": [],
   "source": [
    "import numpy as np\n",
    "import matplotlib.pyplot as plt\n",
    "import math\n",
    "import scipy.stats\n",
    "from ipywidgets import FloatProgress\n",
    "from IPython.display import display\n",
    "\n",
    "%matplotlib inline"
   ]
  },
  {
   "cell_type": "markdown",
   "metadata": {},
   "source": [
    "#### Variable declarations"
   ]
  },
  {
   "cell_type": "code",
   "execution_count": 2,
   "metadata": {},
   "outputs": [],
   "source": [
    "T = 6.0\n",
    "S = 15 # maximum on-hand inventory\n",
    "s = 5 # minimum on-hand inventory\n",
    "x0 = 15 # initial amount of inventory\n",
    "r = 50 # price per product unit\n",
    "L = 2 # units of time before order arrives\n",
    "h = 2 # inventory holding cost\n",
    "ratemax = 10 # maximum number of customers per time unit\n",
    "receiveAfterClose = True # orders can arrive after store closes\n",
    "hUntilClose = True # inventory holding cost is charged until store closes\n",
    "costPerUnit = 10"
   ]
  },
  {
   "cell_type": "markdown",
   "metadata": {},
   "source": [
    "#### Cost function\n",
    "Defines the cost of ordering y units of the product."
   ]
  },
  {
   "cell_type": "code",
   "execution_count": 3,
   "metadata": {},
   "outputs": [],
   "source": [
    "def cost(y): \n",
    "    return y * costPerUnit"
   ]
  },
  {
   "cell_type": "markdown",
   "metadata": {},
   "source": [
    "#### Customer's arrivals\n",
    "Customers demanding the product appear in accordance with a non-homogenous Poisson process with rate λ."
   ]
  },
  {
   "cell_type": "code",
   "execution_count": 4,
   "metadata": {},
   "outputs": [],
   "source": [
    "def rate(t):\n",
    "    if (t < 1.0):\n",
    "        return 10.0\n",
    "    elif (t < 2.0):\n",
    "        return 5.0\n",
    "    elif (t < 3.0):\n",
    "        return 10.0\n",
    "    elif (t < 4.0):\n",
    "        return 2.0\n",
    "    elif (t < 5.0):\n",
    "        return 5.0\n",
    "    else:\n",
    "        return 10.0"
   ]
  },
  {
   "cell_type": "code",
   "execution_count": 5,
   "metadata": {},
   "outputs": [],
   "source": [
    "def exponential(nsamples,rate):\n",
    "    x = np.zeros(nsamples)\n",
    "    u = np.random.sample(nsamples)\n",
    "    for i in range(nsamples):\n",
    "        x[i] = - math.log(1.0 - u[i]) / rate\n",
    "    return x"
   ]
  },
  {
   "cell_type": "code",
   "execution_count": 6,
   "metadata": {},
   "outputs": [],
   "source": [
    "def nextArrival(t,rate,ratemax):\n",
    "    while(1):\n",
    "        Z = exponential(1,ratemax)[0]\n",
    "        t = t + Z\n",
    "        U = np.random.sample(1)\n",
    "        if U < rate(t) / ratemax:\n",
    "            return t"
   ]
  },
  {
   "cell_type": "markdown",
   "metadata": {},
   "source": [
    "#### Inventory Model\n",
    "Returns the average profit per unit of time."
   ]
  },
  {
   "cell_type": "code",
   "execution_count": 7,
   "metadata": {},
   "outputs": [],
   "source": [
    "def inventory(G,T,S,s,c,x0,r,L,h,rate,ratemax,receiveAfterClose,hUntilClose):\n",
    "    \n",
    "    C = 0.0 # total amount of ordering costs\n",
    "    R = 0.0 # total amount of revenue earned\n",
    "    H = 0.0 # total amount of inventory holding costs\n",
    "    x = x0 # amount of inventory\n",
    "    y = 0 # amount on order\n",
    "    t = 0.0 \n",
    "    t0 = nextArrival(t,rate,ratemax) # arrival time of next customer\n",
    "    t1 = 1.0e+30 # time of order delivery\n",
    "    T0 = []\n",
    "    T1 = []\n",
    "    \n",
    "    while(1):\n",
    "        \n",
    "        # customer arrives before delivery\n",
    "        if t0 < t1 and t0 <= T:\n",
    "            H = H + (t0 - t) * x * h\n",
    "            t = t0\n",
    "            T0.append(t0)\n",
    "            D = G(1,rate(t))[0] # customer's demand\n",
    "            w = min(D,x) # amount of the order that can be filled\n",
    "            R = R + w * r\n",
    "            x = x - w\n",
    "            if x < s and y == 0:\n",
    "                y = S - x\n",
    "                t1 = t + L\n",
    "            t0 = nextArrival(t,rate,ratemax)\n",
    "            \n",
    "        # order arrives before next customer\n",
    "        elif (t1 <= t0 or t0 > T) and t1 <= T:\n",
    "            H = H + (t1 - t) * x * h\n",
    "            t = t1\n",
    "            T1.append(t1)\n",
    "            C = C + c(y)\n",
    "            x = x + y\n",
    "            y = 0\n",
    "            t1 = 1.0e+30\n",
    "            \n",
    "        else:\n",
    "            # store closes and there is still an outstanding order\n",
    "            if y > 0 and receiveAfterClose:\n",
    "                H = H + (t1 - t) * x * h\n",
    "                t = t1\n",
    "                T1.append(t1)\n",
    "                C = C + c(y)\n",
    "                x = x + y\n",
    "                y = 0\n",
    "                \n",
    "            elif hUntilClose:\n",
    "                H = H + (T - t) * x * h\n",
    "                \n",
    "            totalProfit = R - C - H\n",
    "            profitPerUnit = totalProfit / T # profit per unit of time\n",
    "            return totalProfit, profitPerUnit, T0, T1"
   ]
  },
  {
   "cell_type": "code",
   "execution_count": 8,
   "metadata": {},
   "outputs": [
    {
     "name": "stdout",
     "output_type": "stream",
     "text": [
      "Total Profit: 216.5443649712434\n",
      "Profit per unit of time: 36.09072749520723\n",
      "Customer arrival times: [0.004140437636058718, 0.061033802852484366, 0.1545434916505422, 0.16336761996999302, 0.18828838035367987, 0.2687768550944456, 0.6161859338341331, 0.6373037815194584, 0.6985081638916735, 0.7305666051966833, 0.8435527703929411, 0.8568401391027552, 0.9616922676251464, 0.9813626543606169, 1.0178712282978781, 1.0670930070683673, 1.294757470266706, 1.4382428328265375, 1.9350885778472233, 2.005762630689831, 2.1600152711855216, 2.7256688135003806, 4.1956043105596486, 4.267293761859133, 4.382538176966529, 4.532167424590274, 4.967755288551966, 5.142845898094178, 5.168529606848759, 5.277130019310619, 5.345423227860266, 5.5025142093955965, 5.507509987659853, 5.51978412840825, 5.6038657388533775, 5.636973371229601, 5.758757486122017, 5.798299350466128, 5.834559067585878, 5.910903537851875, 5.928706655611574]\n",
      "Order arrival times: []\n"
     ]
    }
   ],
   "source": [
    "totalProfit,profitPerUnit,T0,T1 = inventory(exponential,T,S,s,cost,x0,r,L,h,rate,ratemax,receiveAfterClose,hUntilClose)\n",
    "print(\"Total Profit: \" + str(totalProfit))\n",
    "print(\"Profit per unit of time: \" + str(profitPerUnit))\n",
    "print(\"Customer arrival times: \" + str(T0))\n",
    "print(\"Order arrival times: \" + str(T1))"
   ]
  },
  {
   "cell_type": "markdown",
   "metadata": {},
   "source": [
    "#### Tests"
   ]
  },
  {
   "cell_type": "code",
   "execution_count": 9,
   "metadata": {},
   "outputs": [],
   "source": [
    "def inventoryTolerance(tol,alpha):\n",
    "    x = np.zeros(100)\n",
    "    for i in range(100):\n",
    "        totalProfit,profitPerUnit,T0,T1 = inventory(exponential,T,S,s,cost,x0,r,L,h,rate,ratemax,recieveAfterClose,hUntilClose)\n",
    "        x[i] = profitPerUnit\n",
    "    n  = 100\n",
    "    m  = np.mean(x)\n",
    "    s2 = np.var(x)\n",
    "    zab2 = scipy.stats.norm.ppf(1.0 - alpha / 2.0)\n",
    "    while(2.0 * (s2 / n) * zab2 * zab2 > tol**2):\n",
    "        totalProfit,nx,T0,T1 = inventory(exponential,T,S,s,cost,x0,r,L,h,rate,ratemax,recieveAfterClose,hUntilClose)\n",
    "        nm  = m + (nx - m) / (n + 1)\n",
    "        ns2 = (1.0 - 1.0 / n) * s2 + (n + 1.0) * (nm - m)**2\n",
    "        n = n + 1\n",
    "        m  = nm\n",
    "        s2 = ns2 \n",
    "        x = np.append(x,nx)\n",
    "    return m,s2,n,x"
   ]
  },
  {
   "cell_type": "code",
   "execution_count": null,
   "metadata": {},
   "outputs": [],
   "source": [
    "tol = 0.1\n",
    "alpha = 0.05\n",
    "\n",
    "m,s2,n,x = inventoryTolerance(tol,alpha)\n",
    "print(\"Average profit per unit of time: \" + str(m))\n",
    "print(s2)\n",
    "print(\"Number of necessary scenarios: \" + str(n))\n",
    "zab2 = scipy.stats.norm.ppf(1.0 - alpha / 2.0)\n",
    "print(\"The average is in the interval [\" + str(m - math.sqrt(s2 / n) * zab2) + \",\" + str(m + math.sqrt(s2 / n) * zab2) \\\n",
    "      + \"] with a probability of \" + str(1.0 - alpha) + \".\")"
   ]
  },
  {
   "cell_type": "code",
   "execution_count": null,
   "metadata": {},
   "outputs": [],
   "source": [
    "plt.hist(x, 20, density = 1, facecolor ='green', alpha = 0.5)\n",
    "plt.title(\"Profit per Unit of Time Distribution\")\n",
    "plt.show()"
   ]
  },
  {
   "cell_type": "markdown",
   "metadata": {},
   "source": [
    "#### Ordering Policy\n",
    "\n",
    "By varying the values of S and s, we are able to determine the ordering policy that maximizes the store's profits."
   ]
  },
  {
   "cell_type": "code",
   "execution_count": null,
   "metadata": {},
   "outputs": [],
   "source": [
    "f = FloatProgress(min = 0, max = 100)\n",
    "display(f)\n",
    "f.description = \"Loading\"\n",
    "\n",
    "maximum_profit = -1.0e+30\n",
    "best_S = 0\n",
    "best_s = 0\n",
    "\n",
    "for S in range(10,20):\n",
    "    for s in range(20,10,-1):\n",
    "        m,s2,n,x = inventoryTolerance(tol,alpha)\n",
    "        if m > maximum_profit:\n",
    "            maximum_profit = m\n",
    "            best_S = S\n",
    "            best_s = s\n",
    "        f.value = f.value + 1\n",
    "            \n",
    "print(\"Maximum profit: \" + str(maximum_profit))\n",
    "print(\"Best ordering policy (s,S): (\" + str(best_s) + \",\" + str(best_S) + \")\")"
   ]
  },
  {
   "cell_type": "code",
   "execution_count": null,
   "metadata": {},
   "outputs": [],
   "source": []
  }
 ],
 "metadata": {
  "kernelspec": {
   "display_name": "Python 3",
   "language": "python",
   "name": "python3"
  },
  "language_info": {
   "codemirror_mode": {
    "name": "ipython",
    "version": 3
   },
   "file_extension": ".py",
   "mimetype": "text/x-python",
   "name": "python",
   "nbconvert_exporter": "python",
   "pygments_lexer": "ipython3",
   "version": "3.7.5"
  }
 },
 "nbformat": 4,
 "nbformat_minor": 2
}
