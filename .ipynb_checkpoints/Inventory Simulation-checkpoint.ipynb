{
 "cells": [
  {
   "cell_type": "markdown",
   "metadata": {},
   "source": [
    "### Inventory Simulation\n",
    "#### INF1036 - 3WA\n",
    "\n",
    "Fernando Homem, Júlia Aleixo, Pedro Moraes, Rafael Rubim"
   ]
  },
  {
   "cell_type": "code",
   "execution_count": 25,
   "metadata": {},
   "outputs": [],
   "source": [
    "import numpy as np\n",
    "import matplotlib.pyplot as plt\n",
    "import math\n",
    "import scipy.stats\n",
    "from ipywidgets import FloatProgress\n",
    "from IPython.display import display\n",
    "\n",
    "%matplotlib inline"
   ]
  },
  {
   "cell_type": "markdown",
   "metadata": {},
   "source": [
    "#### Variable declarations"
   ]
  },
  {
   "cell_type": "code",
   "execution_count": 2,
   "metadata": {},
   "outputs": [],
   "source": [
    "T = 6.0\n",
    "S = 15 # maximum on-hand inventory\n",
    "s = 5 # minimum on-hand inventory\n",
    "x0 = 15 # initial amount of inventory\n",
    "r = 30 # price per product unit\n",
    "L = 2 # units of time before order arrives\n",
    "h = 2 # inventory holding cost\n",
    "ratemax = 20"
   ]
  },
  {
   "cell_type": "markdown",
   "metadata": {},
   "source": [
    "#### Cost function\n",
    "Defines the cost of ordering y units of the product."
   ]
  },
  {
   "cell_type": "code",
   "execution_count": 3,
   "metadata": {},
   "outputs": [],
   "source": [
    "def cost(y): \n",
    "    return y * r"
   ]
  },
  {
   "cell_type": "markdown",
   "metadata": {},
   "source": [
    "#### Customer's arrivals\n",
    "Customers demanding the product appear in accordance with a non-homogenous Poisson process with rate λ."
   ]
  },
  {
   "cell_type": "code",
   "execution_count": 4,
   "metadata": {},
   "outputs": [],
   "source": [
    "def rate(t):\n",
    "    if (t < 1.0):\n",
    "        return 10.0\n",
    "    elif (t < 2.0):\n",
    "        return 5.0\n",
    "    elif (t < 3.0):\n",
    "        return 10.0\n",
    "    elif (t < 4.0):\n",
    "        return 2.0\n",
    "    elif (t < 5.0):\n",
    "        return 5.0\n",
    "    else:\n",
    "        return 10.0"
   ]
  },
  {
   "cell_type": "code",
   "execution_count": 5,
   "metadata": {},
   "outputs": [],
   "source": [
    "def exponential(nsamples,rate):\n",
    "    x = np.zeros(nsamples)\n",
    "    u = np.random.sample(nsamples)\n",
    "    for i in range(nsamples):\n",
    "        x[i] = - math.log(1.0 - u[i]) / rate\n",
    "    return x"
   ]
  },
  {
   "cell_type": "code",
   "execution_count": 6,
   "metadata": {},
   "outputs": [],
   "source": [
    "def nextArrival(t,rate,ratemax):\n",
    "    while(1):\n",
    "        Z = exponential(1,ratemax)[0]\n",
    "        t = t + Z\n",
    "        U = np.random.sample(1)\n",
    "        if U < rate(t) / ratemax:\n",
    "            return t"
   ]
  },
  {
   "cell_type": "markdown",
   "metadata": {},
   "source": [
    "#### Inventory Model\n",
    "Returns the average profit per unit of time."
   ]
  },
  {
   "cell_type": "code",
   "execution_count": 7,
   "metadata": {},
   "outputs": [],
   "source": [
    "def inventory(G,T,S,s,c,x0,r,L,h,rate,ratemax):\n",
    "    \n",
    "    C = 0.0 # total amount of ordering costs\n",
    "    R = 0.0 # total amount of revenue earned\n",
    "    H = 0.0 # total amount of inventory holding costs\n",
    "    x = x0 # amount of inventory\n",
    "    y = 0 # amount on order\n",
    "    t = 0.0 \n",
    "    t0 = nextArrival(t,rate,ratemax) # arrival time of next customer\n",
    "    t1 = 1.0e+30 # time of order delivery\n",
    "    T0 = []\n",
    "    T1 = []\n",
    "    \n",
    "    while(1):\n",
    "        \n",
    "        # customer arrives before delivery\n",
    "        if t0 < t1 and t < T:\n",
    "            H = H + (t0 - t) * x * h\n",
    "            t = t0\n",
    "            T0.append(t0)\n",
    "            D = G(1,rate(t))[0] # customer's demand\n",
    "            w = min(D,x) # amount of the order that can be filled\n",
    "            R = R + w * r\n",
    "            x = x - w\n",
    "            if x < s and y == 0:\n",
    "                y = S - x\n",
    "                t1 = t + L\n",
    "            U = np.random.sample(1)[0]\n",
    "            t0 = t - (1 / rate(t)) * math.log(U)\n",
    "#             print(\"t0: \" + str(t0))\n",
    "#             print(\"t1: \" + str(t1))\n",
    "\n",
    "        elif t1 <= t0 and t < T:\n",
    "            H = H + (t1 - t) * x * h\n",
    "            t = t1\n",
    "            T1.append(t1)\n",
    "            C = C + c(y)\n",
    "            x = x + y\n",
    "            y = 0\n",
    "            t1 = 1.0e+30\n",
    "            \n",
    "        else:\n",
    "#             print(\"R: \" + str(R))\n",
    "#             print(\"C: \" + str(C))\n",
    "#             print(\"H: \" + str(H))\n",
    "            profit = (R - C - H) / T # profit per unit time\n",
    "            return profit, T0, T1"
   ]
  },
  {
   "cell_type": "code",
   "execution_count": 8,
   "metadata": {},
   "outputs": [
    {
     "name": "stdout",
     "output_type": "stream",
     "text": [
      "0.5607254668512761\n",
      "[0.012123921683579267, 0.07843763625707183, 0.2127695531817565, 0.23993701058164024, 0.2633432818214001, 0.5694648609379895, 0.5970882673165521, 0.8418978740569059, 0.9184822117937493, 0.9594548934046281, 1.1958394010026911, 1.2115560807930101, 1.2499107036510697, 1.4315907961074679, 1.51455116035317, 1.6373768707532304, 1.9032458288525258, 2.108065852286363, 2.1466807573651594, 2.2956245977119782, 2.3590834631276247, 2.5416838060163807, 2.5637242484941467, 2.6587729134755076, 2.6762028764004264, 2.74571486433939, 2.885864843119965, 2.909957247531269, 3.008673603590237, 4.006909578895511, 4.073064065931037, 4.244034360919824, 4.252072470117259, 4.335880533481276, 4.344446038512581, 5.018425020569107, 5.095296346942829, 5.186824466757826, 5.262161663204281, 5.449510822365162, 5.625284768623661, 6.031036330654653]\n",
      "[]\n"
     ]
    }
   ],
   "source": [
    "profit,T0,T1 = inventory(exponential,T,S,s,cost,x0,r,L,h,rate,ratemax)\n",
    "print(profit)\n",
    "print(T0)\n",
    "print(T1)"
   ]
  },
  {
   "cell_type": "markdown",
   "metadata": {},
   "source": [
    "#### Tests"
   ]
  },
  {
   "cell_type": "code",
   "execution_count": 11,
   "metadata": {},
   "outputs": [],
   "source": [
    "def inventoryTolerance(tol,alpha):\n",
    "    x = np.zeros(100)\n",
    "    for i in range(100):\n",
    "        profit,T0,T1 = inventory(exponential,T,S,s,cost,x0,r,L,h,rate,ratemax)\n",
    "        x[i] = profit\n",
    "    n  = 100\n",
    "    m  = np.mean(x)\n",
    "    s2 = np.var(x)\n",
    "    zab2 = scipy.stats.norm.ppf(1.0 - alpha / 2.0)\n",
    "    while(2.0 * (s2 / n) * zab2 * zab2 > tol**2):\n",
    "        nx,T0,T1 = inventory(exponential,T,S,s,cost,x0,r,L,h,rate,ratemax)\n",
    "        nm  = m + (nx - m) / (n + 1)\n",
    "        ns2 = (1.0 - 1.0 / n) * s2 + (n + 1.0) * (nm - m)**2\n",
    "        n = n + 1\n",
    "        m  = nm\n",
    "        s2 = ns2 \n",
    "        x = np.append(x,nx)\n",
    "    return m,s2,n,x"
   ]
  },
  {
   "cell_type": "code",
   "execution_count": 12,
   "metadata": {},
   "outputs": [
    {
     "name": "stdout",
     "output_type": "stream",
     "text": [
      "Average profit per unit of time: 6.314515511156928\n",
      "93.86233240968548\n",
      "Number of necessary scenarios: 124554\n",
      "The average is in the interval [6.243805010716777,6.38522601159708] with a probability of 0.99.\n"
     ]
    }
   ],
   "source": [
    "tol = 0.1\n",
    "alpha = 0.05\n",
    "\n",
    "m,s2,n,x = inventoryTolerance(tol,alpha)\n",
    "print(\"Average profit per unit of time: \" + str(m))\n",
    "print(s2)\n",
    "print(\"Number of necessary scenarios: \" + str(n))\n",
    "zab2 = scipy.stats.norm.ppf(1.0 - alpha / 2.0)\n",
    "print(\"The average is in the interval [\" + str(m - math.sqrt(s2 / n) * zab2) + \",\" + str(m + math.sqrt(s2 / n) * zab2) \\\n",
    "      + \"] with a probability of \" + str(1.0 - alpha) + \".\")"
   ]
  },
  {
   "cell_type": "code",
   "execution_count": 28,
   "metadata": {},
   "outputs": [
    {
     "data": {
      "image/png": "[encoded data removed]",
      "text/plain": [
       "<Figure size 432x288 with 1 Axes>"
      ]
     },
     "metadata": {
      "needs_background": "light"
     },
     "output_type": "display_data"
    }
   ],
   "source": [
    "plt.hist(x, 20, density = 1, facecolor ='green', alpha = 0.5)\n",
    "plt.title(\"Profit Distribution\")\n",
    "plt.show()"
   ]
  },
  {
   "cell_type": "markdown",
   "metadata": {},
   "source": [
    "#### Ordering Policy\n",
    "\n",
    "By varying the values of S and s, we are able to determine the ordering policy that maximizes the store's profits."
   ]
  },
  {
   "cell_type": "code",
   "execution_count": 31,
   "metadata": {},
   "outputs": [
    {
     "data": {
      "application/vnd.jupyter.widget-view+json": {
       "model_id": "a4b010b9c4b0451eb4158c221809bcc4",
       "version_major": 2,
       "version_minor": 0
      },
      "text/plain": [
       "FloatProgress(value=0.0)"
      ]
     },
     "metadata": {},
     "output_type": "display_data"
    },
    {
     "name": "stdout",
     "output_type": "stream",
     "text": [
      "Maximum profit: 24.898157994596307\n",
      "Best ordering policy (s,S): (19,10)\n"
     ]
    }
   ],
   "source": [
    "f = FloatProgress(min = 0, max = 100)\n",
    "display(f)\n",
    "f.description = \"Progress\"\n",
    "\n",
    "maximum_profit = -1.0e+30\n",
    "best_S = 0\n",
    "best_s = 0\n",
    "\n",
    "for S in range(10,20):\n",
    "    for s in range(20,10,-1):\n",
    "        m,s2,n,x = inventoryTolerance(tol,alpha)\n",
    "        if m > maximum_profit:\n",
    "            maximum_profit = m\n",
    "            best_S = S\n",
    "            best_s = s\n",
    "        f.value = f.value + 1\n",
    "            \n",
    "print(\"Maximum profit: \" + str(maximum_profit))\n",
    "print(\"Best ordering policy (s,S): (\" + str(best_s) + \",\" + str(best_S) + \")\")"
   ]
  },
  {
   "cell_type": "code",
   "execution_count": null,
   "metadata": {},
   "outputs": [],
   "source": []
  }
 ],
 "metadata": {
  "kernelspec": {
   "display_name": "Python 3",
   "language": "python",
   "name": "python3"
  },
  "language_info": {
   "codemirror_mode": {
    "name": "ipython",
    "version": 3
   },
   "file_extension": ".py",
   "mimetype": "text/x-python",
   "name": "python",
   "nbconvert_exporter": "python",
   "pygments_lexer": "ipython3",
   "version": "3.7.5"
  }
 },
 "nbformat": 4,
 "nbformat_minor": 2
}
